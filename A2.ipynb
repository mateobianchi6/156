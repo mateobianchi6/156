{
 "cells": [
  {
   "cell_type": "markdown",
   "metadata": {},
   "source": [
    "# Assignment 2, Problem 4"
   ]
  },
  {
   "cell_type": "code",
   "execution_count": 7,
   "metadata": {},
   "outputs": [
    {
     "name": "stdout",
     "output_type": "stream",
     "text": [
      "      fixed acidity  volatile acidity  citric acid  residual sugar  chlorides  \\\n",
      "0               7.4             0.700         0.00             1.9      0.076   \n",
      "1               7.8             0.880         0.00             2.6      0.098   \n",
      "2               7.8             0.760         0.04             2.3      0.092   \n",
      "3              11.2             0.280         0.56             1.9      0.075   \n",
      "4               7.4             0.700         0.00             1.9      0.076   \n",
      "...             ...               ...          ...             ...        ...   \n",
      "1594            6.2             0.600         0.08             2.0      0.090   \n",
      "1595            5.9             0.550         0.10             2.2      0.062   \n",
      "1596            6.3             0.510         0.13             2.3      0.076   \n",
      "1597            5.9             0.645         0.12             2.0      0.075   \n",
      "1598            6.0             0.310         0.47             3.6      0.067   \n",
      "\n",
      "      free sulfur dioxide  total sulfur dioxide  density    pH  sulphates  \\\n",
      "0                    11.0                  34.0  0.99780  3.51       0.56   \n",
      "1                    25.0                  67.0  0.99680  3.20       0.68   \n",
      "2                    15.0                  54.0  0.99700  3.26       0.65   \n",
      "3                    17.0                  60.0  0.99800  3.16       0.58   \n",
      "4                    11.0                  34.0  0.99780  3.51       0.56   \n",
      "...                   ...                   ...      ...   ...        ...   \n",
      "1594                 32.0                  44.0  0.99490  3.45       0.58   \n",
      "1595                 39.0                  51.0  0.99512  3.52       0.76   \n",
      "1596                 29.0                  40.0  0.99574  3.42       0.75   \n",
      "1597                 32.0                  44.0  0.99547  3.57       0.71   \n",
      "1598                 18.0                  42.0  0.99549  3.39       0.66   \n",
      "\n",
      "      alcohol  quality  \n",
      "0         9.4        5  \n",
      "1         9.8        5  \n",
      "2         9.8        5  \n",
      "3         9.8        6  \n",
      "4         9.4        5  \n",
      "...       ...      ...  \n",
      "1594     10.5        5  \n",
      "1595     11.2        6  \n",
      "1596     11.0        6  \n",
      "1597     10.2        5  \n",
      "1598     11.0        6  \n",
      "\n",
      "[1599 rows x 12 columns]\n"
     ]
    }
   ],
   "source": [
    "import numpy as np\n",
    "import pandas as pd\n",
    "wines = pd.read_csv('winequality-red.csv', sep = ';', header=0)"
   ]
  },
  {
   "cell_type": "code",
   "execution_count": 28,
   "metadata": {},
   "outputs": [],
   "source": [
    "from sklearn.linear_model import LinearRegression\n",
    "from sklearn.model_selection import train_test_split\n",
    "import matplotlib.pyplot as plt\n",
    "\n",
    "X_train_val, X_test, y_train_val, y_test = train_test_split(wines.iloc[:,0:11], wines.iloc[:,11], test_size=0.2)\n",
    "X_train, X_val, y_train, y_val = train_test_split(X_train_val, y_train_val, test_size=0.25)\n",
    "def concat_ones(X):\n",
    "    # Add a 1 in front of every training sample for the bias term.\n",
    "    return np.concatenate([np.ones(shape=(len(X), 1)), X], axis=1)\n",
    "class LR:\n",
    "    def __init__(self, learn_bias=False):\n",
    "        self.beta = None\n",
    "        self.learn_bias = learn_bias\n",
    "\n",
    "    def fit(self, X, y):\n",
    "        if self.learn_bias:\n",
    "            X = concat_ones(X)\n",
    "        self.beta = np.linalg.inv(X.T @ X) @ X.T @ y\n",
    "\n",
    "    def predict(self, X_test):\n",
    "        if self.learn_bias:\n",
    "            X_test = concat_ones(X_test)\n",
    "        if self.beta is None:\n",
    "            raise ValueError('Fit the LR model before predicting.')\n",
    "        return X_test @ self.beta\n",
    "    \n",
    "model = LR(learn_bias=True)\n",
    "model.fit(X_train, y_train)"
   ]
  },
  {
   "cell_type": "code",
   "execution_count": 32,
   "metadata": {},
   "outputs": [
    {
     "data": {
      "image/png": "[encoded data removed]",
      "text/plain": [
       "<Figure size 640x480 with 1 Axes>"
      ]
     },
     "metadata": {},
     "output_type": "display_data"
    }
   ],
   "source": [
    "plt.scatter(y_val, model.predict(X_val))\n",
    "plt.show()"
   ]
  },
  {
   "cell_type": "markdown",
   "metadata": {},
   "source": [
    "This graph should have the points for each rating along the x-axis be centered at that same number on the y-axis. That is to say, the more variance the less accurate the prediction is, and if the center of the distribution for the number is not centered around the same number, then the model is not performing well. We see in our plot that the points are mostly centered around 5-6.5, which makes sense because the true values are mostly 5, 6, or 7."
   ]
  },
  {
   "cell_type": "code",
   "execution_count": 51,
   "metadata": {},
   "outputs": [
    {
     "name": "stdout",
     "output_type": "stream",
     "text": [
      "RMS for train and test are: 0.6468753617066719 and 0.6465631434487168\n"
     ]
    }
   ],
   "source": [
    "E_w_test = sum(0.5*np.square(model.predict(X_test) - y_test))\n",
    "rms_test = np.sqrt(2*E_w_test / len(X_test))\n",
    "\n",
    "E_w_train = sum(0.5*np.square(model.predict(X_train) - y_train))\n",
    "rms_train = np.sqrt(2*E_w_train / len(X_train))\n",
    "\n",
    "print('RMS for train and test are:', rms_train,'and', rms_test)\n"
   ]
  },
  {
   "cell_type": "markdown",
   "metadata": {},
   "source": [
    "## Least-Mean-Squares Algorithm"
   ]
  },
  {
   "cell_type": "code",
   "execution_count": 56,
   "metadata": {},
   "outputs": [],
   "source": [
    "def normalize(X):\n",
    "    return (X - np.mean(X, axis=0)) / np.std(X, axis=0)\n",
    "def lms (Xc, yc, step, iterations=100):\n",
    "    weights = np.zeros(11)\n",
    "    errs = []\n",
    "    X = normalize(np.array(Xc))\n",
    "    y = np.array(yc)\n",
    "    samples, variables = X.shape\n",
    "\n",
    "    for k in range(iterations):\n",
    "        total_error = 0\n",
    "        for i in range(samples):\n",
    "            x_i = X[i, :]\n",
    "            y_i = y[i]\n",
    "            y_pred = np.dot(weights, x_i) \n",
    "            error = y_i - y_pred \n",
    "            weights += step * error * x_i  \n",
    "            total_error += error**2\n",
    "        \n",
    "    errs.append(total_error / samples)\n",
    "    \n",
    "    return weights, errs\n",
    "\n",
    "weights_train, MSE_train = lms(X_train, y_train, step = 0.01, iterations=5000)\n",
    "weights_test, MSE_test = lms(X_test, y_test, step = 0.01, iterations=5000)\n"
   ]
  },
  {
   "cell_type": "code",
   "execution_count": 62,
   "metadata": {},
   "outputs": [
    {
     "name": "stdout",
     "output_type": "stream",
     "text": [
      "RMS for train and test are: 0.2687494484035236 and 0.4685973816195043\n"
     ]
    }
   ],
   "source": [
    "rms_lms_train = np.sqrt(2*MSE_train[0] / len(X_train))\n",
    "rms_lms_test = np.sqrt(2*MSE_test[0] / len(X_test))\n",
    "print('RMS for train and test are:', rms_lms_train,'and', rms_lms_test)"
   ]
  }
 ],
 "metadata": {
  "kernelspec": {
   "display_name": "Python 3",
   "language": "python",
   "name": "python3"
  },
  "language_info": {
   "codemirror_mode": {
    "name": "ipython",
    "version": 3
   },
   "file_extension": ".py",
   "mimetype": "text/x-python",
   "name": "python",
   "nbconvert_exporter": "python",
   "pygments_lexer": "ipython3",
   "version": "3.10.0"
  }
 },
 "nbformat": 4,
 "nbformat_minor": 2
}
